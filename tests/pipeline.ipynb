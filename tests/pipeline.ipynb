{
 "cells": [
  {
   "cell_type": "code",
   "execution_count": null,
   "metadata": {},
   "outputs": [],
   "source": [
    "from time import perf_counter\n",
    "start = perf_counter()"
   ]
  },
  {
   "cell_type": "code",
   "execution_count": null,
   "metadata": {},
   "outputs": [],
   "source": [
    "MODELS = {\n",
    "    \"llama-full\": \"llama3:8b-instruct-fp16\",          # 16 GB\n",
    "    \"llama\": \"llama3:8b-instruct-q5_K_M\",             # 5.7 GB\n",
    "\n",
    "    \"mistral-full\": \"mistral:7b-instruct-fp16\",       # 14 GB\n",
    "    \"mistral\": \"mistral:7b-instruct-q5_K_M\",          # 5.1 GB\n",
    "\n",
    "    \"phi\": \"phi3:14b-medium-4k-instruct-q5_K_M\",      # 10 GB\n",
    "    \"phi-mini\": \"phi3:3.8b-mini-4k-instruct-q5_K_M\",  # 2.8 GB\n",
    "}"
   ]
  },
  {
   "cell_type": "code",
   "execution_count": null,
   "metadata": {},
   "outputs": [],
   "source": [
    "model_id = \"llama\"\n",
    "MODEL = MODELS[model_id]"
   ]
  },
  {
   "cell_type": "markdown",
   "metadata": {},
   "source": [
    "# Data pipeline"
   ]
  },
  {
   "cell_type": "code",
   "execution_count": null,
   "metadata": {},
   "outputs": [],
   "source": [
    "from webapp.process import *"
   ]
  },
  {
   "cell_type": "markdown",
   "metadata": {},
   "source": [
    "## 0 | URL of the position to apply"
   ]
  },
  {
   "cell_type": "code",
   "execution_count": null,
   "metadata": {},
   "outputs": [],
   "source": [
    "url = \"https://emploi.cnrs.fr/Offres/CDD/FR636-MARCAS-009/Default.aspx\""
   ]
  },
  {
   "cell_type": "markdown",
   "metadata": {},
   "source": [
    "## 1 | Fetching data"
   ]
  },
  {
   "cell_type": "code",
   "execution_count": null,
   "metadata": {},
   "outputs": [],
   "source": [
    "source_code_html = fetch_data(url)"
   ]
  },
  {
   "cell_type": "markdown",
   "metadata": {},
   "source": [
    "## 2 | Clearing data"
   ]
  },
  {
   "cell_type": "markdown",
   "metadata": {},
   "source": [
    "### 2.1 - Regex"
   ]
  },
  {
   "cell_type": "code",
   "execution_count": null,
   "metadata": {},
   "outputs": [],
   "source": [
    "final_content = html_extract_content(source_code_html)"
   ]
  },
  {
   "cell_type": "markdown",
   "metadata": {},
   "source": [
    "### 2.2 AI summary"
   ]
  },
  {
   "cell_type": "code",
   "execution_count": null,
   "metadata": {},
   "outputs": [],
   "source": [
    "print(final_content)"
   ]
  },
  {
   "cell_type": "code",
   "execution_count": null,
   "metadata": {},
   "outputs": [],
   "source": [
    "position_data = summarize_position_data(final_content, language=\"Francais\", model=MODEL)\n",
    "print(position_data)"
   ]
  },
  {
   "cell_type": "markdown",
   "metadata": {},
   "source": [
    "## 3 | Saving position's data"
   ]
  },
  {
   "cell_type": "markdown",
   "metadata": {},
   "source": [
    "### 3.1 Create application's folder"
   ]
  },
  {
   "cell_type": "code",
   "execution_count": null,
   "metadata": {},
   "outputs": [],
   "source": [
    "import os\n",
    "from datetime import datetime, timedelta\n",
    "import time\n",
    "\n",
    "def create_timestamped_folder():\n",
    "    while True:\n",
    "        # Get the current timestamp\n",
    "        current_timestamp = datetime.now()\n",
    "\n",
    "        # Format the timestamp\n",
    "        timestamp_str = current_timestamp.strftime(\"%Y-%m-%d_%H-%M\")\n",
    "\n",
    "        # Create the new folder name\n",
    "        folder_name = f\"data/applications/{timestamp_str}_{model_id}\"\n",
    "\n",
    "        # Check if the folder already exists\n",
    "        if not os.path.exists(folder_name):\n",
    "            # Create the new folder\n",
    "            os.makedirs(folder_name)\n",
    "            print(f\"New folder created: {folder_name}\")\n",
    "            break\n",
    "        else:\n",
    "            # Wait until the start of the next minute\n",
    "            print(f\"Folder {folder_name} already exists. Waiting for the next minute...\")\n",
    "            now = datetime.now()\n",
    "            next_minute = (now + timedelta(minutes=1)).replace(second=0, microsecond=0)\n",
    "            wait_time = (next_minute - now).total_seconds()\n",
    "            time.sleep(wait_time)\n",
    "    return folder_name\n",
    "\n",
    "application_folder = create_timestamped_folder()"
   ]
  },
  {
   "cell_type": "markdown",
   "metadata": {},
   "source": [
    "### 3.2 Position's data"
   ]
  },
  {
   "cell_type": "code",
   "execution_count": null,
   "metadata": {},
   "outputs": [],
   "source": [
    "with open(f'{application_folder}/position_data.json', 'w') as file:\n",
    "    json.dump(position_data, file, indent=4)"
   ]
  },
  {
   "cell_type": "markdown",
   "metadata": {},
   "source": [
    "## 4 | User data"
   ]
  },
  {
   "cell_type": "code",
   "execution_count": null,
   "metadata": {},
   "outputs": [],
   "source": [
    "user_data = json.load(open(\"data/user.json\"))"
   ]
  },
  {
   "cell_type": "markdown",
   "metadata": {},
   "source": [
    "## 5 | Cover letter"
   ]
  },
  {
   "cell_type": "markdown",
   "metadata": {},
   "source": [
    "### 5.1 Content"
   ]
  },
  {
   "cell_type": "code",
   "execution_count": null,
   "metadata": {},
   "outputs": [],
   "source": [
    "cover_letter = generate_cover_letter(position_data=position_data, user_data=user_data, language=\"Francais\", model=MODEL)\n",
    "print(cover_letter)"
   ]
  },
  {
   "cell_type": "markdown",
   "metadata": {},
   "source": [
    "### 5.2 Typst to pdf"
   ]
  },
  {
   "cell_type": "code",
   "execution_count": null,
   "metadata": {},
   "outputs": [],
   "source": [
    "export_cover_letter_for_pipeline(user_data, position_data, cover_letter, application_folder, \"pdf\")"
   ]
  },
  {
   "cell_type": "code",
   "execution_count": null,
   "metadata": {},
   "outputs": [],
   "source": [
    "print(perf_counter() - start)"
   ]
  }
 ],
 "metadata": {
  "kernelspec": {
   "display_name": "Python 3",
   "language": "python",
   "name": "python3"
  },
  "language_info": {
   "codemirror_mode": {
    "name": "ipython",
    "version": 3
   },
   "file_extension": ".py",
   "mimetype": "text/x-python",
   "name": "python",
   "nbconvert_exporter": "python",
   "pygments_lexer": "ipython3",
   "version": "3.11.undefined"
  },
  "vscode": {
   "interpreter": {
    "hash": "63f4f69482e1d66245b3ea2046e53b0d1ce3bc3460bd39241e7b94a3d469c745"
   }
  }
 },
 "nbformat": 4,
 "nbformat_minor": 2
}
